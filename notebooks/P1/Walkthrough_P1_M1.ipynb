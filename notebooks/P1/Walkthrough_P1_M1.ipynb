{
 "cells": [
  {
   "cell_type": "markdown",
   "id": "91014810",
   "metadata": {},
   "source": [
    "# 2D Plotting with Matplotlib\n",
    "## Milestone 1: Extract Correct Data"
   ]
  },
  {
   "cell_type": "markdown",
   "id": "1c960490",
   "metadata": {},
   "source": [
    "### 1. Import libraries"
   ]
  },
  {
   "cell_type": "code",
   "execution_count": 1,
   "id": "a88e643d",
   "metadata": {},
   "outputs": [],
   "source": [
    "# Import required libraries\n",
    "import pandas as pd\n",
    "import matplotlib.pyplot as plt\n",
    "import matplotlib as mpl"
   ]
  },
  {
   "cell_type": "code",
   "execution_count": 2,
   "id": "6211ff85",
   "metadata": {},
   "outputs": [
    {
     "name": "stdout",
     "output_type": "stream",
     "text": [
      "Pandas 2.2.2\n",
      "Matplotlib 3.9.2\n"
     ]
    }
   ],
   "source": [
    "print(\"Pandas\", pd.__version__)\n",
    "print(\"Matplotlib\", mpl.__version__)"
   ]
  },
  {
   "cell_type": "code",
   "execution_count": 3,
   "id": "0a66c671",
   "metadata": {},
   "outputs": [],
   "source": [
    "# Define the location of the data folder \n",
    "data_loc = \"./data/\""
   ]
  },
  {
   "cell_type": "markdown",
   "id": "17edcbd4",
   "metadata": {},
   "source": [
    "### 2. Read data \n",
    "from the URL of the SeoulBikeData.csv file into a pandas DataFrame."
   ]
  },
  {
   "cell_type": "code",
   "execution_count": 4,
   "id": "a9d96382",
   "metadata": {},
   "outputs": [],
   "source": [
    "# Read the Seoul datafile\n",
    "# Parse the `Date` column as a real datetime for reliable filtering later\n",
    "# Handle non‑ASCII characters via `encoding='unicode_escape'\n",
    "data = pd.read_csv(data_loc+\"SeoulBikeData.csv\",  \n",
    "                    encoding = 'unicode_escape',   \n",
    "                    parse_dates=['Date'],\n",
    "                    date_format = \"%d/%m/%Y\"\n",
    "                  )"
   ]
  },
  {
   "cell_type": "markdown",
   "id": "769d8fec-ca5d-4663-82ff-6b2bfd8c42c2",
   "metadata": {},
   "source": [
    "The **`pandas.DataFrame.info()`** method provides a concise summary of a DataFrame, acting like a quick “report card” for your dataset.    \n",
    "It displays:    \n",
    "- the number of rows and columns\n",
    "- the column names\n",
    "- each column’s data type (e.g., integer, float, object/string, datetime)\n",
    "- the count of non-null (non-missing) values per column\n",
    "- the approximate memory usage.    \n",
    "\n",
    "This is particularly useful during exploratory data analysis because it helps you quickly check for missing values, verify data types before analysis or visualization, and understand the overall structure of your dataset without printing all rows.\n",
    "In short, `.info()` is a diagnostic tool that gives you a snapshot of your dataset’s health and readiness for further processing."
   ]
  },
  {
   "cell_type": "code",
   "execution_count": 5,
   "id": "41786832-be26-4864-9c14-0228bfa0f300",
   "metadata": {},
   "outputs": [
    {
     "name": "stdout",
     "output_type": "stream",
     "text": [
      "<class 'pandas.core.frame.DataFrame'>\n",
      "RangeIndex: 8760 entries, 0 to 8759\n",
      "Data columns (total 14 columns):\n",
      " #   Column                     Non-Null Count  Dtype         \n",
      "---  ------                     --------------  -----         \n",
      " 0   Date                       8760 non-null   datetime64[ns]\n",
      " 1   Rented Bike Count          8760 non-null   int64         \n",
      " 2   Hour                       8760 non-null   int64         \n",
      " 3   Temperature(°C)            8760 non-null   float64       \n",
      " 4   Humidity(%)                8760 non-null   int64         \n",
      " 5   Wind speed (m/s)           8760 non-null   float64       \n",
      " 6   Visibility (10m)           8760 non-null   int64         \n",
      " 7   Dew point temperature(°C)  8760 non-null   float64       \n",
      " 8   Solar Radiation (MJ/m2)    8760 non-null   float64       \n",
      " 9   Rainfall(mm)               8760 non-null   float64       \n",
      " 10  Snowfall (cm)              8760 non-null   float64       \n",
      " 11  Seasons                    8760 non-null   object        \n",
      " 12  Holiday                    8760 non-null   object        \n",
      " 13  Functioning Day            8760 non-null   object        \n",
      "dtypes: datetime64[ns](1), float64(6), int64(4), object(3)\n",
      "memory usage: 958.3+ KB\n"
     ]
    }
   ],
   "source": [
    "data.info()"
   ]
  },
  {
   "cell_type": "code",
   "execution_count": 6,
   "id": "88c3c8fe",
   "metadata": {},
   "outputs": [
    {
     "data": {
      "text/plain": [
       "Timestamp('2025-08-25 18:03:48.887252')"
      ]
     },
     "execution_count": 6,
     "metadata": {},
     "output_type": "execute_result"
    }
   ],
   "source": [
    "pd.Timestamp.today()"
   ]
  },
  {
   "cell_type": "markdown",
   "id": "39c1be77",
   "metadata": {},
   "source": [
    "### 3. Do preliminary data exploration on your DataFrame."
   ]
  },
  {
   "cell_type": "markdown",
   "id": "f4de0510-d31d-4fe1-8700-cdc424cd2f0f",
   "metadata": {},
   "source": [
    "The **`pandas.DataFrame.shape`** attribute (note: it’s not a method, so you don’t call it with parentheses) gives you the dimensions of your DataFrame as a tuple `(rows, columns)`.     \n",
    "The first number tells you how many rows (observations) your dataset has, and the second tells you how many columns (features/variables).\n",
    "For example, a shape of `(365, 10)` means 365 rows and 10 columns.    \n",
    "This is especially useful for quickly confirming that you’ve loaded the dataset correctly, checking the size after filtering or subsetting, and verifying that your data transformations had the intended effect. In short, `.shape` gives you an at-a-glance view of your dataset’s size, which is often the very first check analysts perform before diving deeper."
   ]
  },
  {
   "cell_type": "code",
   "execution_count": 7,
   "id": "2d38b896",
   "metadata": {},
   "outputs": [
    {
     "data": {
      "text/plain": [
       "(8760, 14)"
      ]
     },
     "execution_count": 7,
     "metadata": {},
     "output_type": "execute_result"
    }
   ],
   "source": [
    "# Check the number of rows and columns in your data\n",
    "data.shape"
   ]
  },
  {
   "cell_type": "markdown",
   "id": "101fd737-6de4-42ef-ac1b-02e39ef88276",
   "metadata": {},
   "source": [
    "The **`pandas.DataFrame.columns`** attribute returns an index object containing the labels (names) of all the columns in your DataFrame. In other words, it tells you *what variables you have available* in your dataset. For example, the dataset of bike rentals shows `Index(['Date',  'Rented Bike Count', 'Hour', 'Temperature(°C)', ...], dtype='object')`. This is especially useful when you want to:\n",
    "\n",
    "* Verify that the dataset has the expected columns,\n",
    "* Spot issues such as typos, extra spaces, or unusual characters in column names,\n",
    "* Know the exact spelling and case of a column before selecting or filtering it.\n",
    "\n",
    "In short, `.columns` is your quick reference list of all variable names in a DataFrame, helping you orient yourself before performing selections, transformations, or visualizations.\n"
   ]
  },
  {
   "cell_type": "code",
   "execution_count": 8,
   "id": "3e24425a",
   "metadata": {},
   "outputs": [
    {
     "data": {
      "text/plain": [
       "Index(['Date', 'Rented Bike Count', 'Hour', 'Temperature(°C)', 'Humidity(%)',\n",
       "       'Wind speed (m/s)', 'Visibility (10m)', 'Dew point temperature(°C)',\n",
       "       'Solar Radiation (MJ/m2)', 'Rainfall(mm)', 'Snowfall (cm)', 'Seasons',\n",
       "       'Holiday', 'Functioning Day'],\n",
       "      dtype='object')"
      ]
     },
     "execution_count": 8,
     "metadata": {},
     "output_type": "execute_result"
    }
   ],
   "source": [
    "# Check the column names\n",
    "data.columns"
   ]
  },
  {
   "cell_type": "markdown",
   "id": "d7622d05-0e55-410f-87bf-7dc3f5b465ef",
   "metadata": {},
   "source": [
    "The **`pandas.DataFrame.head()`** method displays the first few rows of your DataFrame (by default, the first 5). It’s like peeking at the top of your dataset to make sure everything looks right. You can also pass an integer to see a different number of rows, for example, `.head(10)` to see the first 10.    \n",
    "This is especially helpful right after loading a dataset, because it lets you quickly check whether the file was read correctly, confirm that dates, numbers, and text were parsed properly, and get an immediate sense of what the data looks like without overwhelming yourself with thousands of rows. In short, `.head()` is your go-to tool for a quick first glance at the contents of your DataFrame.\n"
   ]
  },
  {
   "cell_type": "code",
   "execution_count": 9,
   "id": "873a2460",
   "metadata": {},
   "outputs": [
    {
     "data": {
      "text/html": [
       "<div>\n",
       "<style scoped>\n",
       "    .dataframe tbody tr th:only-of-type {\n",
       "        vertical-align: middle;\n",
       "    }\n",
       "\n",
       "    .dataframe tbody tr th {\n",
       "        vertical-align: top;\n",
       "    }\n",
       "\n",
       "    .dataframe thead th {\n",
       "        text-align: right;\n",
       "    }\n",
       "</style>\n",
       "<table border=\"1\" class=\"dataframe\">\n",
       "  <thead>\n",
       "    <tr style=\"text-align: right;\">\n",
       "      <th></th>\n",
       "      <th>Date</th>\n",
       "      <th>Rented Bike Count</th>\n",
       "      <th>Hour</th>\n",
       "      <th>Temperature(°C)</th>\n",
       "      <th>Humidity(%)</th>\n",
       "      <th>Wind speed (m/s)</th>\n",
       "      <th>Visibility (10m)</th>\n",
       "      <th>Dew point temperature(°C)</th>\n",
       "      <th>Solar Radiation (MJ/m2)</th>\n",
       "      <th>Rainfall(mm)</th>\n",
       "      <th>Snowfall (cm)</th>\n",
       "      <th>Seasons</th>\n",
       "      <th>Holiday</th>\n",
       "      <th>Functioning Day</th>\n",
       "    </tr>\n",
       "  </thead>\n",
       "  <tbody>\n",
       "    <tr>\n",
       "      <th>0</th>\n",
       "      <td>2017-12-01</td>\n",
       "      <td>254</td>\n",
       "      <td>0</td>\n",
       "      <td>-5.2</td>\n",
       "      <td>37</td>\n",
       "      <td>2.2</td>\n",
       "      <td>2000</td>\n",
       "      <td>-17.6</td>\n",
       "      <td>0.0</td>\n",
       "      <td>0.0</td>\n",
       "      <td>0.0</td>\n",
       "      <td>Winter</td>\n",
       "      <td>No Holiday</td>\n",
       "      <td>Yes</td>\n",
       "    </tr>\n",
       "    <tr>\n",
       "      <th>1</th>\n",
       "      <td>2017-12-01</td>\n",
       "      <td>204</td>\n",
       "      <td>1</td>\n",
       "      <td>-5.5</td>\n",
       "      <td>38</td>\n",
       "      <td>0.8</td>\n",
       "      <td>2000</td>\n",
       "      <td>-17.6</td>\n",
       "      <td>0.0</td>\n",
       "      <td>0.0</td>\n",
       "      <td>0.0</td>\n",
       "      <td>Winter</td>\n",
       "      <td>No Holiday</td>\n",
       "      <td>Yes</td>\n",
       "    </tr>\n",
       "    <tr>\n",
       "      <th>2</th>\n",
       "      <td>2017-12-01</td>\n",
       "      <td>173</td>\n",
       "      <td>2</td>\n",
       "      <td>-6.0</td>\n",
       "      <td>39</td>\n",
       "      <td>1.0</td>\n",
       "      <td>2000</td>\n",
       "      <td>-17.7</td>\n",
       "      <td>0.0</td>\n",
       "      <td>0.0</td>\n",
       "      <td>0.0</td>\n",
       "      <td>Winter</td>\n",
       "      <td>No Holiday</td>\n",
       "      <td>Yes</td>\n",
       "    </tr>\n",
       "    <tr>\n",
       "      <th>3</th>\n",
       "      <td>2017-12-01</td>\n",
       "      <td>107</td>\n",
       "      <td>3</td>\n",
       "      <td>-6.2</td>\n",
       "      <td>40</td>\n",
       "      <td>0.9</td>\n",
       "      <td>2000</td>\n",
       "      <td>-17.6</td>\n",
       "      <td>0.0</td>\n",
       "      <td>0.0</td>\n",
       "      <td>0.0</td>\n",
       "      <td>Winter</td>\n",
       "      <td>No Holiday</td>\n",
       "      <td>Yes</td>\n",
       "    </tr>\n",
       "    <tr>\n",
       "      <th>4</th>\n",
       "      <td>2017-12-01</td>\n",
       "      <td>78</td>\n",
       "      <td>4</td>\n",
       "      <td>-6.0</td>\n",
       "      <td>36</td>\n",
       "      <td>2.3</td>\n",
       "      <td>2000</td>\n",
       "      <td>-18.6</td>\n",
       "      <td>0.0</td>\n",
       "      <td>0.0</td>\n",
       "      <td>0.0</td>\n",
       "      <td>Winter</td>\n",
       "      <td>No Holiday</td>\n",
       "      <td>Yes</td>\n",
       "    </tr>\n",
       "  </tbody>\n",
       "</table>\n",
       "</div>"
      ],
      "text/plain": [
       "        Date  Rented Bike Count  Hour  Temperature(°C)  Humidity(%)  \\\n",
       "0 2017-12-01                254     0             -5.2           37   \n",
       "1 2017-12-01                204     1             -5.5           38   \n",
       "2 2017-12-01                173     2             -6.0           39   \n",
       "3 2017-12-01                107     3             -6.2           40   \n",
       "4 2017-12-01                 78     4             -6.0           36   \n",
       "\n",
       "   Wind speed (m/s)  Visibility (10m)  Dew point temperature(°C)  \\\n",
       "0               2.2              2000                      -17.6   \n",
       "1               0.8              2000                      -17.6   \n",
       "2               1.0              2000                      -17.7   \n",
       "3               0.9              2000                      -17.6   \n",
       "4               2.3              2000                      -18.6   \n",
       "\n",
       "   Solar Radiation (MJ/m2)  Rainfall(mm)  Snowfall (cm) Seasons     Holiday  \\\n",
       "0                      0.0           0.0            0.0  Winter  No Holiday   \n",
       "1                      0.0           0.0            0.0  Winter  No Holiday   \n",
       "2                      0.0           0.0            0.0  Winter  No Holiday   \n",
       "3                      0.0           0.0            0.0  Winter  No Holiday   \n",
       "4                      0.0           0.0            0.0  Winter  No Holiday   \n",
       "\n",
       "  Functioning Day  \n",
       "0             Yes  \n",
       "1             Yes  \n",
       "2             Yes  \n",
       "3             Yes  \n",
       "4             Yes  "
      ]
     },
     "execution_count": 9,
     "metadata": {},
     "output_type": "execute_result"
    }
   ],
   "source": [
    "# Check the contents of the first 5 rows of the DataFrame\n",
    "data.head()"
   ]
  },
  {
   "cell_type": "code",
   "execution_count": 10,
   "id": "f0db3e8d",
   "metadata": {},
   "outputs": [
    {
     "name": "stdout",
     "output_type": "stream",
     "text": [
      "<class 'pandas.core.frame.DataFrame'>\n",
      "RangeIndex: 8760 entries, 0 to 8759\n",
      "Data columns (total 14 columns):\n",
      " #   Column                     Non-Null Count  Dtype         \n",
      "---  ------                     --------------  -----         \n",
      " 0   Date                       8760 non-null   datetime64[ns]\n",
      " 1   Rented Bike Count          8760 non-null   int64         \n",
      " 2   Hour                       8760 non-null   int64         \n",
      " 3   Temperature(°C)            8760 non-null   float64       \n",
      " 4   Humidity(%)                8760 non-null   int64         \n",
      " 5   Wind speed (m/s)           8760 non-null   float64       \n",
      " 6   Visibility (10m)           8760 non-null   int64         \n",
      " 7   Dew point temperature(°C)  8760 non-null   float64       \n",
      " 8   Solar Radiation (MJ/m2)    8760 non-null   float64       \n",
      " 9   Rainfall(mm)               8760 non-null   float64       \n",
      " 10  Snowfall (cm)              8760 non-null   float64       \n",
      " 11  Seasons                    8760 non-null   object        \n",
      " 12  Holiday                    8760 non-null   object        \n",
      " 13  Functioning Day            8760 non-null   object        \n",
      "dtypes: datetime64[ns](1), float64(6), int64(4), object(3)\n",
      "memory usage: 958.3+ KB\n"
     ]
    }
   ],
   "source": [
    "# show the dataframe information \n",
    "data.info()"
   ]
  },
  {
   "cell_type": "markdown",
   "id": "3bf72c24",
   "metadata": {},
   "source": [
    "### 4. Extract only the specific columns\n",
    " [\"Date\", \"Hour\", “Rented Bike Count”] from the DataFrame."
   ]
  },
  {
   "cell_type": "markdown",
   "id": "7c1e97ff-9a45-4cff-8514-c691d48c3aec",
   "metadata": {},
   "source": [
    "The **`pandas.DataFrame.loc[]`** indexer is used to **select rows and columns by their labels (names)** rather than by numerical positions. It works with explicit labels, boolean conditions, and even slices. For example:\n",
    "\n",
    "* `df.loc[5]` → retrieves the row with index label `5`.\n",
    "* `df.loc[:, [\"Date\", \"Hour\"]]` → selects all rows but only the *Date* and *Hour* columns.\n",
    "* `df.loc[df[\"Hour\"] >= 8]` → filters rows where the *Hour* column is greater than or equal to 8.\n",
    "* `df.loc[(df[\"Date\"] == \"2017-08-12\") & (df[\"Hour\"].between(8, 20)), [\"Date\", \"Hour\", \"Rented Bike Count\"]]` → retrieves only rows matching both conditions and only the columns *Date*, *Hour*, and *Rented Bike Count*.\n",
    "\n",
    "This makes `.loc[]` one of the most powerful tools in pandas, because it lets you extract exactly the subset of data you want in a very readable way. In short, `.loc[]` is your “label-based scalpel” for slicing and filtering DataFrames with precision.\n"
   ]
  },
  {
   "cell_type": "code",
   "execution_count": 11,
   "id": "1bde67fd",
   "metadata": {},
   "outputs": [],
   "source": [
    "# Assign the extracted columns to a new DataFrame\n",
    "all_bikes = data.loc[:,[\"Date\", \"Hour\", \"Rented Bike Count\"]]"
   ]
  },
  {
   "cell_type": "code",
   "execution_count": 12,
   "id": "6b9ce9ba",
   "metadata": {},
   "outputs": [
    {
     "data": {
      "text/html": [
       "<div>\n",
       "<style scoped>\n",
       "    .dataframe tbody tr th:only-of-type {\n",
       "        vertical-align: middle;\n",
       "    }\n",
       "\n",
       "    .dataframe tbody tr th {\n",
       "        vertical-align: top;\n",
       "    }\n",
       "\n",
       "    .dataframe thead th {\n",
       "        text-align: right;\n",
       "    }\n",
       "</style>\n",
       "<table border=\"1\" class=\"dataframe\">\n",
       "  <thead>\n",
       "    <tr style=\"text-align: right;\">\n",
       "      <th></th>\n",
       "      <th>Date</th>\n",
       "      <th>Hour</th>\n",
       "      <th>Rented Bike Count</th>\n",
       "    </tr>\n",
       "  </thead>\n",
       "  <tbody>\n",
       "    <tr>\n",
       "      <th>0</th>\n",
       "      <td>2017-12-01</td>\n",
       "      <td>0</td>\n",
       "      <td>254</td>\n",
       "    </tr>\n",
       "    <tr>\n",
       "      <th>1</th>\n",
       "      <td>2017-12-01</td>\n",
       "      <td>1</td>\n",
       "      <td>204</td>\n",
       "    </tr>\n",
       "    <tr>\n",
       "      <th>2</th>\n",
       "      <td>2017-12-01</td>\n",
       "      <td>2</td>\n",
       "      <td>173</td>\n",
       "    </tr>\n",
       "    <tr>\n",
       "      <th>3</th>\n",
       "      <td>2017-12-01</td>\n",
       "      <td>3</td>\n",
       "      <td>107</td>\n",
       "    </tr>\n",
       "    <tr>\n",
       "      <th>4</th>\n",
       "      <td>2017-12-01</td>\n",
       "      <td>4</td>\n",
       "      <td>78</td>\n",
       "    </tr>\n",
       "  </tbody>\n",
       "</table>\n",
       "</div>"
      ],
      "text/plain": [
       "        Date  Hour  Rented Bike Count\n",
       "0 2017-12-01     0                254\n",
       "1 2017-12-01     1                204\n",
       "2 2017-12-01     2                173\n",
       "3 2017-12-01     3                107\n",
       "4 2017-12-01     4                 78"
      ]
     },
     "execution_count": 12,
     "metadata": {},
     "output_type": "execute_result"
    }
   ],
   "source": [
    "all_bikes.head()"
   ]
  },
  {
   "cell_type": "markdown",
   "id": "764df61c-77aa-485e-9226-049544c314d1",
   "metadata": {},
   "source": [
    "The **`pandas.DataFrame.to_csv()`** method is used to save a DataFrame as a CSV (comma-separated values) file on your computer or another location. By default, it writes the entire DataFrame, including the index, into a text file where each row corresponds to a line and each column is separated by a comma. You can customize its behavior with several useful arguments:\n",
    "\n",
    "* `index=False` → prevents pandas from writing the row index as an extra column.\n",
    "* `sep=\";\"` → changes the delimiter (useful for European CSV formats that prefer semicolons).\n",
    "* `encoding=\"utf-8\"` or `\"latin-1\"` → controls how special characters are saved.\n",
    "* `columns=[...]` → lets you choose only specific columns to export.\n",
    "\n",
    "Example:\n",
    "\n",
    "```python\n",
    "df.to_csv(\"cleaned_data.csv\", index=False, encoding=\"utf-8\")\n",
    "```\n",
    "\n",
    "This saves your DataFrame to a file named `cleaned_data.csv` without adding the index column.\n",
    "\n",
    "In short, `.to_csv()` is your go-to method for exporting processed or cleaned datasets so you can share them, reload them later, or use them in other tools like Excel.\n"
   ]
  },
  {
   "cell_type": "code",
   "execution_count": 13,
   "id": "b86e3674",
   "metadata": {},
   "outputs": [],
   "source": [
    "all_bikes.to_csv(data_loc+\"all_bikes.csv\", index = False)"
   ]
  },
  {
   "cell_type": "markdown",
   "id": "5f383533",
   "metadata": {},
   "source": [
    "### 5. Extract only the required rows\n",
    "—those pertaining to the date we want to plot (2017-08-12)—and specific hours on that date, for example, 8 a.m. to 8 p.m., from the DataFrame you created in Step 4."
   ]
  },
  {
   "cell_type": "code",
   "execution_count": 14,
   "id": "777f9cdc",
   "metadata": {},
   "outputs": [],
   "source": [
    "# Create a boolean mask (a series of True/False values)\n",
    "# It checks each row in the Date column to see if it matches \"2017-12-08\".\n",
    "# Rows with that date get True; all others get False.\n",
    "mask_date = (all_bikes.Date == \"2017-12-08\")\n",
    "# Create another boolean mask\n",
    "# It checks if the value in the Hour column is between 8 and 20 inclusive\n",
    "# The & operator combines two conditions: greater than or equal to 8 and less than or equal to 20.\n",
    "mask_hour = (all_bikes.Hour >= 8) & (all_bikes.Hour <= 20)\n",
    "# The two masks are combined with & (logical AND).\n",
    "# Only rows where both conditions are True are selected.\n",
    "# The result is assigned to bikes, which is a filtered DataFrame containing:\n",
    "# Only rows from December 8, 2017 and only the hours between 08:00 and 20:00\n",
    "bikes = all_bikes[mask_date & mask_hour]"
   ]
  },
  {
   "cell_type": "code",
   "execution_count": 15,
   "id": "d2e19e81",
   "metadata": {},
   "outputs": [
    {
     "name": "stdout",
     "output_type": "stream",
     "text": [
      "<class 'pandas.core.frame.DataFrame'>\n",
      "Index: 13 entries, 176 to 188\n",
      "Data columns (total 3 columns):\n",
      " #   Column             Non-Null Count  Dtype         \n",
      "---  ------             --------------  -----         \n",
      " 0   Date               13 non-null     datetime64[ns]\n",
      " 1   Hour               13 non-null     int64         \n",
      " 2   Rented Bike Count  13 non-null     int64         \n",
      "dtypes: datetime64[ns](1), int64(2)\n",
      "memory usage: 416.0 bytes\n"
     ]
    }
   ],
   "source": [
    "bikes.info()"
   ]
  },
  {
   "cell_type": "code",
   "execution_count": 16,
   "id": "36098952",
   "metadata": {},
   "outputs": [
    {
     "data": {
      "text/html": [
       "<div>\n",
       "<style scoped>\n",
       "    .dataframe tbody tr th:only-of-type {\n",
       "        vertical-align: middle;\n",
       "    }\n",
       "\n",
       "    .dataframe tbody tr th {\n",
       "        vertical-align: top;\n",
       "    }\n",
       "\n",
       "    .dataframe thead th {\n",
       "        text-align: right;\n",
       "    }\n",
       "</style>\n",
       "<table border=\"1\" class=\"dataframe\">\n",
       "  <thead>\n",
       "    <tr style=\"text-align: right;\">\n",
       "      <th></th>\n",
       "      <th>Date</th>\n",
       "      <th>Hour</th>\n",
       "      <th>Rented Bike Count</th>\n",
       "    </tr>\n",
       "  </thead>\n",
       "  <tbody>\n",
       "    <tr>\n",
       "      <th>176</th>\n",
       "      <td>2017-12-08</td>\n",
       "      <td>8</td>\n",
       "      <td>780</td>\n",
       "    </tr>\n",
       "    <tr>\n",
       "      <th>177</th>\n",
       "      <td>2017-12-08</td>\n",
       "      <td>9</td>\n",
       "      <td>395</td>\n",
       "    </tr>\n",
       "    <tr>\n",
       "      <th>178</th>\n",
       "      <td>2017-12-08</td>\n",
       "      <td>10</td>\n",
       "      <td>261</td>\n",
       "    </tr>\n",
       "    <tr>\n",
       "      <th>179</th>\n",
       "      <td>2017-12-08</td>\n",
       "      <td>11</td>\n",
       "      <td>310</td>\n",
       "    </tr>\n",
       "    <tr>\n",
       "      <th>180</th>\n",
       "      <td>2017-12-08</td>\n",
       "      <td>12</td>\n",
       "      <td>355</td>\n",
       "    </tr>\n",
       "    <tr>\n",
       "      <th>181</th>\n",
       "      <td>2017-12-08</td>\n",
       "      <td>13</td>\n",
       "      <td>354</td>\n",
       "    </tr>\n",
       "    <tr>\n",
       "      <th>182</th>\n",
       "      <td>2017-12-08</td>\n",
       "      <td>14</td>\n",
       "      <td>350</td>\n",
       "    </tr>\n",
       "    <tr>\n",
       "      <th>183</th>\n",
       "      <td>2017-12-08</td>\n",
       "      <td>15</td>\n",
       "      <td>362</td>\n",
       "    </tr>\n",
       "    <tr>\n",
       "      <th>184</th>\n",
       "      <td>2017-12-08</td>\n",
       "      <td>16</td>\n",
       "      <td>401</td>\n",
       "    </tr>\n",
       "    <tr>\n",
       "      <th>185</th>\n",
       "      <td>2017-12-08</td>\n",
       "      <td>17</td>\n",
       "      <td>500</td>\n",
       "    </tr>\n",
       "    <tr>\n",
       "      <th>186</th>\n",
       "      <td>2017-12-08</td>\n",
       "      <td>18</td>\n",
       "      <td>752</td>\n",
       "    </tr>\n",
       "    <tr>\n",
       "      <th>187</th>\n",
       "      <td>2017-12-08</td>\n",
       "      <td>19</td>\n",
       "      <td>477</td>\n",
       "    </tr>\n",
       "    <tr>\n",
       "      <th>188</th>\n",
       "      <td>2017-12-08</td>\n",
       "      <td>20</td>\n",
       "      <td>384</td>\n",
       "    </tr>\n",
       "  </tbody>\n",
       "</table>\n",
       "</div>"
      ],
      "text/plain": [
       "          Date  Hour  Rented Bike Count\n",
       "176 2017-12-08     8                780\n",
       "177 2017-12-08     9                395\n",
       "178 2017-12-08    10                261\n",
       "179 2017-12-08    11                310\n",
       "180 2017-12-08    12                355\n",
       "181 2017-12-08    13                354\n",
       "182 2017-12-08    14                350\n",
       "183 2017-12-08    15                362\n",
       "184 2017-12-08    16                401\n",
       "185 2017-12-08    17                500\n",
       "186 2017-12-08    18                752\n",
       "187 2017-12-08    19                477\n",
       "188 2017-12-08    20                384"
      ]
     },
     "execution_count": 16,
     "metadata": {},
     "output_type": "execute_result"
    }
   ],
   "source": [
    "bikes"
   ]
  },
  {
   "cell_type": "code",
   "execution_count": 17,
   "id": "21c6990a-c900-43e6-955a-41ab09115261",
   "metadata": {},
   "outputs": [],
   "source": [
    "bikes.to_csv(data_loc+\"bikes.csv\", index = False)"
   ]
  }
 ],
 "metadata": {
  "kernelspec": {
   "display_name": "Python 3 (ipykernel)",
   "language": "python",
   "name": "python3"
  },
  "language_info": {
   "codemirror_mode": {
    "name": "ipython",
    "version": 3
   },
   "file_extension": ".py",
   "mimetype": "text/x-python",
   "name": "python",
   "nbconvert_exporter": "python",
   "pygments_lexer": "ipython3",
   "version": "3.12.7"
  }
 },
 "nbformat": 4,
 "nbformat_minor": 5
}
