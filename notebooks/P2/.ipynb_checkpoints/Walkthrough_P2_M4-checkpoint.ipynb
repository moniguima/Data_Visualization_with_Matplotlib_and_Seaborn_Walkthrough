{
 "cells": [
  {
   "cell_type": "markdown",
   "id": "57115032-8b8e-4c41-bc64-d5186b6924d0",
   "metadata": {},
   "source": [
    "# 3D Plotting with Matplotlib\n",
    "## Milestone 4: Interactive Visualization"
   ]
  },
  {
   "cell_type": "markdown",
   "id": "516217d2-e9ae-4b7f-9c90-307e4a7dedb4",
   "metadata": {},
   "source": [
    "### Objective\n",
    "In this milestone, you will create an interactive surface plot to visualize the hourly mean number of bikes rented along with the mean temperature at that hour. You will use a customized colormap to distinguish hotter hours.\n",
    "\n",
    "### Importance of the Project\n",
    "Interactive plots enable you to inspect the relations between features of your dataset from different points of view. The plot created in this milestone will enable you to visualize the patterns in hourly renting of bikes with variations in the temperature."
   ]
  },
  {
   "cell_type": "markdown",
   "id": "fc41af61-54a4-45e0-850c-b55c0fe1c321",
   "metadata": {},
   "source": [
    "### 1. Import libraries and get data ready"
   ]
  },
  {
   "cell_type": "code",
   "execution_count": 1,
   "id": "b912292e-25ca-47b1-9a53-d2ad99197d6f",
   "metadata": {},
   "outputs": [],
   "source": [
    "import pandas as pd\n",
    "import numpy as np\n",
    "import matplotlib.pyplot as plt"
   ]
  },
  {
   "cell_type": "code",
   "execution_count": 2,
   "id": "52c8d377-7d33-44bf-a15c-869e8a4ce3de",
   "metadata": {},
   "outputs": [
    {
     "name": "stdout",
     "output_type": "stream",
     "text": [
      "module://matplotlib_inline.backend_inline\n"
     ]
    }
   ],
   "source": [
    "import matplotlib as mpl\n",
    "print(mpl.pyplot.get_backend())"
   ]
  },
  {
   "cell_type": "code",
   "execution_count": 3,
   "id": "2c1b895f-efc5-46b3-bb80-d950819cfaf0",
   "metadata": {},
   "outputs": [
    {
     "data": {
      "text/plain": [
       "'module://matplotlib_inline.backend_inline'"
      ]
     },
     "execution_count": 3,
     "metadata": {},
     "output_type": "execute_result"
    }
   ],
   "source": [
    "plt.rcParams[\"backend\"]"
   ]
  },
  {
   "cell_type": "code",
   "execution_count": 4,
   "id": "067a2a34-b40a-409d-b54c-a671def383d5",
   "metadata": {},
   "outputs": [],
   "source": [
    "from mpl_toolkits import mplot3d"
   ]
  },
  {
   "cell_type": "code",
   "execution_count": 5,
   "id": "5bba65c6-048e-4cb9-989b-3ac983bba8b0",
   "metadata": {},
   "outputs": [
    {
     "name": "stdout",
     "output_type": "stream",
     "text": [
      "Available matplotlib backends: ['agg', 'auto', 'cairo', 'gtk3', 'gtk3agg', 'gtk3cairo', 'gtk4', 'gtk4agg', 'gtk4cairo', 'inline', 'ipympl', 'macosx', 'nbagg', 'notebook', 'osx', 'pdf', 'pgf', 'ps', 'qt', 'qt5', 'qt5agg', 'qt5cairo', 'qt6', 'qtagg', 'qtcairo', 'svg', 'template', 'tk', 'tkagg', 'tkcairo', 'webagg', 'widget', 'wx', 'wx', 'wxagg', 'wxcairo']\n"
     ]
    }
   ],
   "source": [
    "%matplotlib --list"
   ]
  },
  {
   "cell_type": "markdown",
   "id": "caea1e88-2efa-4dc1-adfc-81d04809d431",
   "metadata": {},
   "source": [
    "#### Read the SeoulBikesData.csv file into a pandas DataFrame"
   ]
  },
  {
   "cell_type": "code",
   "execution_count": 6,
   "id": "133a2884-727c-4290-9a3c-da88b94055ca",
   "metadata": {},
   "outputs": [],
   "source": [
    "data_loc = \"./data/\"\n",
    "img_loc = \"./img/\""
   ]
  },
  {
   "cell_type": "code",
   "execution_count": 7,
   "id": "481c7dfc-35e2-46f8-99be-1a87360fd697",
   "metadata": {},
   "outputs": [],
   "source": [
    "bikes = pd.read_csv(data_loc + \"SeoulBikeData.csv\",  \n",
    "                    encoding = 'unicode_escape',   \n",
    "                    parse_dates=['Date'],\n",
    "                    date_format = \"%d/%m/%Y\"  \n",
    "                  )"
   ]
  },
  {
   "cell_type": "code",
   "execution_count": 8,
   "id": "978f79cc-4dc1-40b3-a95d-512174036767",
   "metadata": {},
   "outputs": [
    {
     "name": "stdout",
     "output_type": "stream",
     "text": [
      "<class 'pandas.core.frame.DataFrame'>\n",
      "RangeIndex: 8760 entries, 0 to 8759\n",
      "Data columns (total 14 columns):\n",
      " #   Column                     Non-Null Count  Dtype         \n",
      "---  ------                     --------------  -----         \n",
      " 0   Date                       8760 non-null   datetime64[ns]\n",
      " 1   Rented Bike Count          8760 non-null   int64         \n",
      " 2   Hour                       8760 non-null   int64         \n",
      " 3   Temperature(°C)            8760 non-null   float64       \n",
      " 4   Humidity(%)                8760 non-null   int64         \n",
      " 5   Wind speed (m/s)           8760 non-null   float64       \n",
      " 6   Visibility (10m)           8760 non-null   int64         \n",
      " 7   Dew point temperature(°C)  8760 non-null   float64       \n",
      " 8   Solar Radiation (MJ/m2)    8760 non-null   float64       \n",
      " 9   Rainfall(mm)               8760 non-null   float64       \n",
      " 10  Snowfall (cm)              8760 non-null   float64       \n",
      " 11  Seasons                    8760 non-null   object        \n",
      " 12  Holiday                    8760 non-null   object        \n",
      " 13  Functioning Day            8760 non-null   object        \n",
      "dtypes: datetime64[ns](1), float64(6), int64(4), object(3)\n",
      "memory usage: 958.3+ KB\n"
     ]
    }
   ],
   "source": [
    "bikes.info()"
   ]
  },
  {
   "cell_type": "code",
   "execution_count": 9,
   "id": "476b82f7-94ed-4944-98db-5c59d6869e47",
   "metadata": {},
   "outputs": [
    {
     "data": {
      "text/html": [
       "<div>\n",
       "<style scoped>\n",
       "    .dataframe tbody tr th:only-of-type {\n",
       "        vertical-align: middle;\n",
       "    }\n",
       "\n",
       "    .dataframe tbody tr th {\n",
       "        vertical-align: top;\n",
       "    }\n",
       "\n",
       "    .dataframe thead th {\n",
       "        text-align: right;\n",
       "    }\n",
       "</style>\n",
       "<table border=\"1\" class=\"dataframe\">\n",
       "  <thead>\n",
       "    <tr style=\"text-align: right;\">\n",
       "      <th></th>\n",
       "      <th>Date</th>\n",
       "      <th>Rented Bike Count</th>\n",
       "      <th>Hour</th>\n",
       "      <th>Temperature(°C)</th>\n",
       "      <th>Humidity(%)</th>\n",
       "      <th>Wind speed (m/s)</th>\n",
       "      <th>Visibility (10m)</th>\n",
       "      <th>Dew point temperature(°C)</th>\n",
       "      <th>Solar Radiation (MJ/m2)</th>\n",
       "      <th>Rainfall(mm)</th>\n",
       "      <th>Snowfall (cm)</th>\n",
       "      <th>Seasons</th>\n",
       "      <th>Holiday</th>\n",
       "      <th>Functioning Day</th>\n",
       "    </tr>\n",
       "  </thead>\n",
       "  <tbody>\n",
       "    <tr>\n",
       "      <th>5469</th>\n",
       "      <td>2018-07-16</td>\n",
       "      <td>2241</td>\n",
       "      <td>21</td>\n",
       "      <td>28.0</td>\n",
       "      <td>64</td>\n",
       "      <td>1.5</td>\n",
       "      <td>2000</td>\n",
       "      <td>20.5</td>\n",
       "      <td>0.00</td>\n",
       "      <td>0.0</td>\n",
       "      <td>0.0</td>\n",
       "      <td>Summer</td>\n",
       "      <td>No Holiday</td>\n",
       "      <td>Yes</td>\n",
       "    </tr>\n",
       "    <tr>\n",
       "      <th>4883</th>\n",
       "      <td>2018-06-22</td>\n",
       "      <td>1020</td>\n",
       "      <td>11</td>\n",
       "      <td>28.1</td>\n",
       "      <td>35</td>\n",
       "      <td>1.3</td>\n",
       "      <td>1608</td>\n",
       "      <td>11.1</td>\n",
       "      <td>3.02</td>\n",
       "      <td>0.0</td>\n",
       "      <td>0.0</td>\n",
       "      <td>Summer</td>\n",
       "      <td>No Holiday</td>\n",
       "      <td>Yes</td>\n",
       "    </tr>\n",
       "    <tr>\n",
       "      <th>376</th>\n",
       "      <td>2017-12-16</td>\n",
       "      <td>258</td>\n",
       "      <td>16</td>\n",
       "      <td>-3.3</td>\n",
       "      <td>24</td>\n",
       "      <td>3.5</td>\n",
       "      <td>2000</td>\n",
       "      <td>-21.0</td>\n",
       "      <td>0.54</td>\n",
       "      <td>0.0</td>\n",
       "      <td>0.0</td>\n",
       "      <td>Winter</td>\n",
       "      <td>No Holiday</td>\n",
       "      <td>Yes</td>\n",
       "    </tr>\n",
       "    <tr>\n",
       "      <th>435</th>\n",
       "      <td>2017-12-19</td>\n",
       "      <td>55</td>\n",
       "      <td>3</td>\n",
       "      <td>-2.8</td>\n",
       "      <td>58</td>\n",
       "      <td>1.6</td>\n",
       "      <td>1315</td>\n",
       "      <td>-9.9</td>\n",
       "      <td>0.00</td>\n",
       "      <td>0.0</td>\n",
       "      <td>2.6</td>\n",
       "      <td>Winter</td>\n",
       "      <td>No Holiday</td>\n",
       "      <td>Yes</td>\n",
       "    </tr>\n",
       "    <tr>\n",
       "      <th>2193</th>\n",
       "      <td>2018-03-02</td>\n",
       "      <td>343</td>\n",
       "      <td>9</td>\n",
       "      <td>-4.6</td>\n",
       "      <td>34</td>\n",
       "      <td>1.2</td>\n",
       "      <td>1583</td>\n",
       "      <td>-18.1</td>\n",
       "      <td>0.87</td>\n",
       "      <td>0.0</td>\n",
       "      <td>0.0</td>\n",
       "      <td>Spring</td>\n",
       "      <td>No Holiday</td>\n",
       "      <td>Yes</td>\n",
       "    </tr>\n",
       "  </tbody>\n",
       "</table>\n",
       "</div>"
      ],
      "text/plain": [
       "           Date  Rented Bike Count  Hour  Temperature(°C)  Humidity(%)  \\\n",
       "5469 2018-07-16               2241    21             28.0           64   \n",
       "4883 2018-06-22               1020    11             28.1           35   \n",
       "376  2017-12-16                258    16             -3.3           24   \n",
       "435  2017-12-19                 55     3             -2.8           58   \n",
       "2193 2018-03-02                343     9             -4.6           34   \n",
       "\n",
       "      Wind speed (m/s)  Visibility (10m)  Dew point temperature(°C)  \\\n",
       "5469               1.5              2000                       20.5   \n",
       "4883               1.3              1608                       11.1   \n",
       "376                3.5              2000                      -21.0   \n",
       "435                1.6              1315                       -9.9   \n",
       "2193               1.2              1583                      -18.1   \n",
       "\n",
       "      Solar Radiation (MJ/m2)  Rainfall(mm)  Snowfall (cm) Seasons  \\\n",
       "5469                     0.00           0.0            0.0  Summer   \n",
       "4883                     3.02           0.0            0.0  Summer   \n",
       "376                      0.54           0.0            0.0  Winter   \n",
       "435                      0.00           0.0            2.6  Winter   \n",
       "2193                     0.87           0.0            0.0  Spring   \n",
       "\n",
       "         Holiday Functioning Day  \n",
       "5469  No Holiday             Yes  \n",
       "4883  No Holiday             Yes  \n",
       "376   No Holiday             Yes  \n",
       "435   No Holiday             Yes  \n",
       "2193  No Holiday             Yes  "
      ]
     },
     "execution_count": 9,
     "metadata": {},
     "output_type": "execute_result"
    }
   ],
   "source": [
    "bikes.sample(5)"
   ]
  },
  {
   "cell_type": "code",
   "execution_count": 10,
   "id": "c7bc2f03-b0c0-40dc-9ecc-cbb1c0876f84",
   "metadata": {},
   "outputs": [
    {
     "data": {
      "text/plain": [
       "Index(['Date', 'Rented Bike Count', 'Hour', 'Temperature(°C)', 'Humidity(%)',\n",
       "       'Wind speed (m/s)', 'Visibility (10m)', 'Dew point temperature(°C)',\n",
       "       'Solar Radiation (MJ/m2)', 'Rainfall(mm)', 'Snowfall (cm)', 'Seasons',\n",
       "       'Holiday', 'Functioning Day'],\n",
       "      dtype='object')"
      ]
     },
     "execution_count": 10,
     "metadata": {},
     "output_type": "execute_result"
    }
   ],
   "source": [
    "bikes.columns"
   ]
  },
  {
   "cell_type": "markdown",
   "id": "57f7a1b7-17bd-4de5-b8bb-da633aea7862",
   "metadata": {},
   "source": [
    "#### Group your DataFrame by hour and apply mean() to compute the mean of all numerical columns"
   ]
  },
  {
   "cell_type": "markdown",
   "id": "49d1a77d-4891-47fe-ba10-f934148053a6",
   "metadata": {},
   "source": [
    "#### Round the values to two decimal places"
   ]
  },
  {
   "cell_type": "code",
   "execution_count": 11,
   "id": "48ff2fc6-6eab-4fa8-adb4-b8e8c9bdb75e",
   "metadata": {},
   "outputs": [
    {
     "data": {
      "text/html": [
       "<div>\n",
       "<style scoped>\n",
       "    .dataframe tbody tr th:only-of-type {\n",
       "        vertical-align: middle;\n",
       "    }\n",
       "\n",
       "    .dataframe tbody tr th {\n",
       "        vertical-align: top;\n",
       "    }\n",
       "\n",
       "    .dataframe thead th {\n",
       "        text-align: right;\n",
       "    }\n",
       "</style>\n",
       "<table border=\"1\" class=\"dataframe\">\n",
       "  <thead>\n",
       "    <tr style=\"text-align: right;\">\n",
       "      <th></th>\n",
       "      <th>Rented Bike Count</th>\n",
       "      <th>Temperature(°C)</th>\n",
       "    </tr>\n",
       "    <tr>\n",
       "      <th>Hour</th>\n",
       "      <th></th>\n",
       "      <th></th>\n",
       "    </tr>\n",
       "  </thead>\n",
       "  <tbody>\n",
       "    <tr>\n",
       "      <th>0</th>\n",
       "      <td>541.46</td>\n",
       "      <td>11.29</td>\n",
       "    </tr>\n",
       "    <tr>\n",
       "      <th>1</th>\n",
       "      <td>426.18</td>\n",
       "      <td>10.92</td>\n",
       "    </tr>\n",
       "    <tr>\n",
       "      <th>2</th>\n",
       "      <td>301.63</td>\n",
       "      <td>10.59</td>\n",
       "    </tr>\n",
       "    <tr>\n",
       "      <th>3</th>\n",
       "      <td>203.33</td>\n",
       "      <td>10.29</td>\n",
       "    </tr>\n",
       "    <tr>\n",
       "      <th>4</th>\n",
       "      <td>132.59</td>\n",
       "      <td>10.03</td>\n",
       "    </tr>\n",
       "    <tr>\n",
       "      <th>5</th>\n",
       "      <td>139.08</td>\n",
       "      <td>9.77</td>\n",
       "    </tr>\n",
       "    <tr>\n",
       "      <th>6</th>\n",
       "      <td>287.56</td>\n",
       "      <td>9.56</td>\n",
       "    </tr>\n",
       "    <tr>\n",
       "      <th>7</th>\n",
       "      <td>606.01</td>\n",
       "      <td>9.58</td>\n",
       "    </tr>\n",
       "    <tr>\n",
       "      <th>8</th>\n",
       "      <td>1015.70</td>\n",
       "      <td>10.18</td>\n",
       "    </tr>\n",
       "    <tr>\n",
       "      <th>9</th>\n",
       "      <td>645.98</td>\n",
       "      <td>11.38</td>\n",
       "    </tr>\n",
       "    <tr>\n",
       "      <th>10</th>\n",
       "      <td>527.82</td>\n",
       "      <td>12.91</td>\n",
       "    </tr>\n",
       "    <tr>\n",
       "      <th>11</th>\n",
       "      <td>600.85</td>\n",
       "      <td>14.31</td>\n",
       "    </tr>\n",
       "    <tr>\n",
       "      <th>12</th>\n",
       "      <td>699.44</td>\n",
       "      <td>15.46</td>\n",
       "    </tr>\n",
       "    <tr>\n",
       "      <th>13</th>\n",
       "      <td>733.25</td>\n",
       "      <td>16.26</td>\n",
       "    </tr>\n",
       "    <tr>\n",
       "      <th>14</th>\n",
       "      <td>758.82</td>\n",
       "      <td>16.82</td>\n",
       "    </tr>\n",
       "    <tr>\n",
       "      <th>15</th>\n",
       "      <td>829.19</td>\n",
       "      <td>17.04</td>\n",
       "    </tr>\n",
       "    <tr>\n",
       "      <th>16</th>\n",
       "      <td>930.62</td>\n",
       "      <td>16.90</td>\n",
       "    </tr>\n",
       "    <tr>\n",
       "      <th>17</th>\n",
       "      <td>1138.51</td>\n",
       "      <td>16.25</td>\n",
       "    </tr>\n",
       "    <tr>\n",
       "      <th>18</th>\n",
       "      <td>1502.93</td>\n",
       "      <td>15.30</td>\n",
       "    </tr>\n",
       "    <tr>\n",
       "      <th>19</th>\n",
       "      <td>1195.15</td>\n",
       "      <td>14.28</td>\n",
       "    </tr>\n",
       "    <tr>\n",
       "      <th>20</th>\n",
       "      <td>1068.96</td>\n",
       "      <td>13.39</td>\n",
       "    </tr>\n",
       "    <tr>\n",
       "      <th>21</th>\n",
       "      <td>1031.45</td>\n",
       "      <td>12.75</td>\n",
       "    </tr>\n",
       "    <tr>\n",
       "      <th>22</th>\n",
       "      <td>922.80</td>\n",
       "      <td>12.21</td>\n",
       "    </tr>\n",
       "    <tr>\n",
       "      <th>23</th>\n",
       "      <td>671.13</td>\n",
       "      <td>11.74</td>\n",
       "    </tr>\n",
       "  </tbody>\n",
       "</table>\n",
       "</div>"
      ],
      "text/plain": [
       "      Rented Bike Count  Temperature(°C)\n",
       "Hour                                    \n",
       "0                541.46            11.29\n",
       "1                426.18            10.92\n",
       "2                301.63            10.59\n",
       "3                203.33            10.29\n",
       "4                132.59            10.03\n",
       "5                139.08             9.77\n",
       "6                287.56             9.56\n",
       "7                606.01             9.58\n",
       "8               1015.70            10.18\n",
       "9                645.98            11.38\n",
       "10               527.82            12.91\n",
       "11               600.85            14.31\n",
       "12               699.44            15.46\n",
       "13               733.25            16.26\n",
       "14               758.82            16.82\n",
       "15               829.19            17.04\n",
       "16               930.62            16.90\n",
       "17              1138.51            16.25\n",
       "18              1502.93            15.30\n",
       "19              1195.15            14.28\n",
       "20              1068.96            13.39\n",
       "21              1031.45            12.75\n",
       "22               922.80            12.21\n",
       "23               671.13            11.74"
      ]
     },
     "execution_count": 11,
     "metadata": {},
     "output_type": "execute_result"
    }
   ],
   "source": [
    "bikes_by_hour = bikes[['Hour', 'Rented Bike Count',  'Temperature(°C)']].groupby([\"Hour\"]).mean().round(2)\n",
    "bikes_by_hour"
   ]
  },
  {
   "cell_type": "code",
   "execution_count": 12,
   "id": "890dd6d5-1838-4528-b642-e401fd872248",
   "metadata": {},
   "outputs": [
    {
     "data": {
      "text/html": [
       "<div>\n",
       "<style scoped>\n",
       "    .dataframe tbody tr th:only-of-type {\n",
       "        vertical-align: middle;\n",
       "    }\n",
       "\n",
       "    .dataframe tbody tr th {\n",
       "        vertical-align: top;\n",
       "    }\n",
       "\n",
       "    .dataframe thead th {\n",
       "        text-align: right;\n",
       "    }\n",
       "</style>\n",
       "<table border=\"1\" class=\"dataframe\">\n",
       "  <thead>\n",
       "    <tr style=\"text-align: right;\">\n",
       "      <th></th>\n",
       "      <th>Hour</th>\n",
       "      <th>Rented Bike Count</th>\n",
       "      <th>Temperature(°C)</th>\n",
       "    </tr>\n",
       "  </thead>\n",
       "  <tbody>\n",
       "    <tr>\n",
       "      <th>0</th>\n",
       "      <td>0</td>\n",
       "      <td>541.46</td>\n",
       "      <td>11.29</td>\n",
       "    </tr>\n",
       "    <tr>\n",
       "      <th>1</th>\n",
       "      <td>1</td>\n",
       "      <td>426.18</td>\n",
       "      <td>10.92</td>\n",
       "    </tr>\n",
       "    <tr>\n",
       "      <th>2</th>\n",
       "      <td>2</td>\n",
       "      <td>301.63</td>\n",
       "      <td>10.59</td>\n",
       "    </tr>\n",
       "    <tr>\n",
       "      <th>3</th>\n",
       "      <td>3</td>\n",
       "      <td>203.33</td>\n",
       "      <td>10.29</td>\n",
       "    </tr>\n",
       "    <tr>\n",
       "      <th>4</th>\n",
       "      <td>4</td>\n",
       "      <td>132.59</td>\n",
       "      <td>10.03</td>\n",
       "    </tr>\n",
       "    <tr>\n",
       "      <th>5</th>\n",
       "      <td>5</td>\n",
       "      <td>139.08</td>\n",
       "      <td>9.77</td>\n",
       "    </tr>\n",
       "    <tr>\n",
       "      <th>6</th>\n",
       "      <td>6</td>\n",
       "      <td>287.56</td>\n",
       "      <td>9.56</td>\n",
       "    </tr>\n",
       "    <tr>\n",
       "      <th>7</th>\n",
       "      <td>7</td>\n",
       "      <td>606.01</td>\n",
       "      <td>9.58</td>\n",
       "    </tr>\n",
       "    <tr>\n",
       "      <th>8</th>\n",
       "      <td>8</td>\n",
       "      <td>1015.70</td>\n",
       "      <td>10.18</td>\n",
       "    </tr>\n",
       "    <tr>\n",
       "      <th>9</th>\n",
       "      <td>9</td>\n",
       "      <td>645.98</td>\n",
       "      <td>11.38</td>\n",
       "    </tr>\n",
       "    <tr>\n",
       "      <th>10</th>\n",
       "      <td>10</td>\n",
       "      <td>527.82</td>\n",
       "      <td>12.91</td>\n",
       "    </tr>\n",
       "    <tr>\n",
       "      <th>11</th>\n",
       "      <td>11</td>\n",
       "      <td>600.85</td>\n",
       "      <td>14.31</td>\n",
       "    </tr>\n",
       "    <tr>\n",
       "      <th>12</th>\n",
       "      <td>12</td>\n",
       "      <td>699.44</td>\n",
       "      <td>15.46</td>\n",
       "    </tr>\n",
       "    <tr>\n",
       "      <th>13</th>\n",
       "      <td>13</td>\n",
       "      <td>733.25</td>\n",
       "      <td>16.26</td>\n",
       "    </tr>\n",
       "    <tr>\n",
       "      <th>14</th>\n",
       "      <td>14</td>\n",
       "      <td>758.82</td>\n",
       "      <td>16.82</td>\n",
       "    </tr>\n",
       "    <tr>\n",
       "      <th>15</th>\n",
       "      <td>15</td>\n",
       "      <td>829.19</td>\n",
       "      <td>17.04</td>\n",
       "    </tr>\n",
       "    <tr>\n",
       "      <th>16</th>\n",
       "      <td>16</td>\n",
       "      <td>930.62</td>\n",
       "      <td>16.90</td>\n",
       "    </tr>\n",
       "    <tr>\n",
       "      <th>17</th>\n",
       "      <td>17</td>\n",
       "      <td>1138.51</td>\n",
       "      <td>16.25</td>\n",
       "    </tr>\n",
       "    <tr>\n",
       "      <th>18</th>\n",
       "      <td>18</td>\n",
       "      <td>1502.93</td>\n",
       "      <td>15.30</td>\n",
       "    </tr>\n",
       "    <tr>\n",
       "      <th>19</th>\n",
       "      <td>19</td>\n",
       "      <td>1195.15</td>\n",
       "      <td>14.28</td>\n",
       "    </tr>\n",
       "    <tr>\n",
       "      <th>20</th>\n",
       "      <td>20</td>\n",
       "      <td>1068.96</td>\n",
       "      <td>13.39</td>\n",
       "    </tr>\n",
       "    <tr>\n",
       "      <th>21</th>\n",
       "      <td>21</td>\n",
       "      <td>1031.45</td>\n",
       "      <td>12.75</td>\n",
       "    </tr>\n",
       "    <tr>\n",
       "      <th>22</th>\n",
       "      <td>22</td>\n",
       "      <td>922.80</td>\n",
       "      <td>12.21</td>\n",
       "    </tr>\n",
       "    <tr>\n",
       "      <th>23</th>\n",
       "      <td>23</td>\n",
       "      <td>671.13</td>\n",
       "      <td>11.74</td>\n",
       "    </tr>\n",
       "  </tbody>\n",
       "</table>\n",
       "</div>"
      ],
      "text/plain": [
       "    Hour  Rented Bike Count  Temperature(°C)\n",
       "0      0             541.46            11.29\n",
       "1      1             426.18            10.92\n",
       "2      2             301.63            10.59\n",
       "3      3             203.33            10.29\n",
       "4      4             132.59            10.03\n",
       "5      5             139.08             9.77\n",
       "6      6             287.56             9.56\n",
       "7      7             606.01             9.58\n",
       "8      8            1015.70            10.18\n",
       "9      9             645.98            11.38\n",
       "10    10             527.82            12.91\n",
       "11    11             600.85            14.31\n",
       "12    12             699.44            15.46\n",
       "13    13             733.25            16.26\n",
       "14    14             758.82            16.82\n",
       "15    15             829.19            17.04\n",
       "16    16             930.62            16.90\n",
       "17    17            1138.51            16.25\n",
       "18    18            1502.93            15.30\n",
       "19    19            1195.15            14.28\n",
       "20    20            1068.96            13.39\n",
       "21    21            1031.45            12.75\n",
       "22    22             922.80            12.21\n",
       "23    23             671.13            11.74"
      ]
     },
     "execution_count": 12,
     "metadata": {},
     "output_type": "execute_result"
    }
   ],
   "source": [
    "bikes_by_hour.reset_index(inplace = True)\n",
    "bikes_by_hour"
   ]
  },
  {
   "cell_type": "code",
   "execution_count": 13,
   "id": "56f656ac-2ac2-4318-b3cd-5429f22fdcaf",
   "metadata": {},
   "outputs": [
    {
     "data": {
      "text/html": [
       "<div>\n",
       "<style scoped>\n",
       "    .dataframe tbody tr th:only-of-type {\n",
       "        vertical-align: middle;\n",
       "    }\n",
       "\n",
       "    .dataframe tbody tr th {\n",
       "        vertical-align: top;\n",
       "    }\n",
       "\n",
       "    .dataframe thead th {\n",
       "        text-align: right;\n",
       "    }\n",
       "</style>\n",
       "<table border=\"1\" class=\"dataframe\">\n",
       "  <thead>\n",
       "    <tr style=\"text-align: right;\">\n",
       "      <th></th>\n",
       "      <th>Hour</th>\n",
       "      <th>Rented Bike Count</th>\n",
       "      <th>Temperature(°C)</th>\n",
       "    </tr>\n",
       "  </thead>\n",
       "  <tbody>\n",
       "    <tr>\n",
       "      <th>6</th>\n",
       "      <td>6</td>\n",
       "      <td>287.56</td>\n",
       "      <td>9.56</td>\n",
       "    </tr>\n",
       "    <tr>\n",
       "      <th>7</th>\n",
       "      <td>7</td>\n",
       "      <td>606.01</td>\n",
       "      <td>9.58</td>\n",
       "    </tr>\n",
       "    <tr>\n",
       "      <th>5</th>\n",
       "      <td>5</td>\n",
       "      <td>139.08</td>\n",
       "      <td>9.77</td>\n",
       "    </tr>\n",
       "    <tr>\n",
       "      <th>4</th>\n",
       "      <td>4</td>\n",
       "      <td>132.59</td>\n",
       "      <td>10.03</td>\n",
       "    </tr>\n",
       "    <tr>\n",
       "      <th>8</th>\n",
       "      <td>8</td>\n",
       "      <td>1015.70</td>\n",
       "      <td>10.18</td>\n",
       "    </tr>\n",
       "    <tr>\n",
       "      <th>3</th>\n",
       "      <td>3</td>\n",
       "      <td>203.33</td>\n",
       "      <td>10.29</td>\n",
       "    </tr>\n",
       "    <tr>\n",
       "      <th>2</th>\n",
       "      <td>2</td>\n",
       "      <td>301.63</td>\n",
       "      <td>10.59</td>\n",
       "    </tr>\n",
       "    <tr>\n",
       "      <th>1</th>\n",
       "      <td>1</td>\n",
       "      <td>426.18</td>\n",
       "      <td>10.92</td>\n",
       "    </tr>\n",
       "    <tr>\n",
       "      <th>0</th>\n",
       "      <td>0</td>\n",
       "      <td>541.46</td>\n",
       "      <td>11.29</td>\n",
       "    </tr>\n",
       "    <tr>\n",
       "      <th>9</th>\n",
       "      <td>9</td>\n",
       "      <td>645.98</td>\n",
       "      <td>11.38</td>\n",
       "    </tr>\n",
       "    <tr>\n",
       "      <th>23</th>\n",
       "      <td>23</td>\n",
       "      <td>671.13</td>\n",
       "      <td>11.74</td>\n",
       "    </tr>\n",
       "    <tr>\n",
       "      <th>22</th>\n",
       "      <td>22</td>\n",
       "      <td>922.80</td>\n",
       "      <td>12.21</td>\n",
       "    </tr>\n",
       "    <tr>\n",
       "      <th>21</th>\n",
       "      <td>21</td>\n",
       "      <td>1031.45</td>\n",
       "      <td>12.75</td>\n",
       "    </tr>\n",
       "    <tr>\n",
       "      <th>10</th>\n",
       "      <td>10</td>\n",
       "      <td>527.82</td>\n",
       "      <td>12.91</td>\n",
       "    </tr>\n",
       "    <tr>\n",
       "      <th>20</th>\n",
       "      <td>20</td>\n",
       "      <td>1068.96</td>\n",
       "      <td>13.39</td>\n",
       "    </tr>\n",
       "    <tr>\n",
       "      <th>19</th>\n",
       "      <td>19</td>\n",
       "      <td>1195.15</td>\n",
       "      <td>14.28</td>\n",
       "    </tr>\n",
       "    <tr>\n",
       "      <th>11</th>\n",
       "      <td>11</td>\n",
       "      <td>600.85</td>\n",
       "      <td>14.31</td>\n",
       "    </tr>\n",
       "    <tr>\n",
       "      <th>18</th>\n",
       "      <td>18</td>\n",
       "      <td>1502.93</td>\n",
       "      <td>15.30</td>\n",
       "    </tr>\n",
       "    <tr>\n",
       "      <th>12</th>\n",
       "      <td>12</td>\n",
       "      <td>699.44</td>\n",
       "      <td>15.46</td>\n",
       "    </tr>\n",
       "    <tr>\n",
       "      <th>17</th>\n",
       "      <td>17</td>\n",
       "      <td>1138.51</td>\n",
       "      <td>16.25</td>\n",
       "    </tr>\n",
       "    <tr>\n",
       "      <th>13</th>\n",
       "      <td>13</td>\n",
       "      <td>733.25</td>\n",
       "      <td>16.26</td>\n",
       "    </tr>\n",
       "    <tr>\n",
       "      <th>14</th>\n",
       "      <td>14</td>\n",
       "      <td>758.82</td>\n",
       "      <td>16.82</td>\n",
       "    </tr>\n",
       "    <tr>\n",
       "      <th>16</th>\n",
       "      <td>16</td>\n",
       "      <td>930.62</td>\n",
       "      <td>16.90</td>\n",
       "    </tr>\n",
       "    <tr>\n",
       "      <th>15</th>\n",
       "      <td>15</td>\n",
       "      <td>829.19</td>\n",
       "      <td>17.04</td>\n",
       "    </tr>\n",
       "  </tbody>\n",
       "</table>\n",
       "</div>"
      ],
      "text/plain": [
       "    Hour  Rented Bike Count  Temperature(°C)\n",
       "6      6             287.56             9.56\n",
       "7      7             606.01             9.58\n",
       "5      5             139.08             9.77\n",
       "4      4             132.59            10.03\n",
       "8      8            1015.70            10.18\n",
       "3      3             203.33            10.29\n",
       "2      2             301.63            10.59\n",
       "1      1             426.18            10.92\n",
       "0      0             541.46            11.29\n",
       "9      9             645.98            11.38\n",
       "23    23             671.13            11.74\n",
       "22    22             922.80            12.21\n",
       "21    21            1031.45            12.75\n",
       "10    10             527.82            12.91\n",
       "20    20            1068.96            13.39\n",
       "19    19            1195.15            14.28\n",
       "11    11             600.85            14.31\n",
       "18    18            1502.93            15.30\n",
       "12    12             699.44            15.46\n",
       "17    17            1138.51            16.25\n",
       "13    13             733.25            16.26\n",
       "14    14             758.82            16.82\n",
       "16    16             930.62            16.90\n",
       "15    15             829.19            17.04"
      ]
     },
     "execution_count": 13,
     "metadata": {},
     "output_type": "execute_result"
    }
   ],
   "source": [
    "bikes_by_hour.sort_values(\"Temperature(°C)\")"
   ]
  },
  {
   "cell_type": "markdown",
   "id": "fa16e429-0b2b-42a2-a1fe-aaeb938bf2c2",
   "metadata": {},
   "source": [
    "### 2. Set the backend of your Jupyter notebook to an interactive backend"
   ]
  },
  {
   "cell_type": "code",
   "execution_count": 14,
   "id": "5bec69fc-72bf-418a-9156-48b92d2c30e8",
   "metadata": {},
   "outputs": [
    {
     "name": "stdout",
     "output_type": "stream",
     "text": [
      "module://matplotlib_inline.backend_inline\n"
     ]
    }
   ],
   "source": [
    "print(mpl.pyplot.get_backend())"
   ]
  },
  {
   "cell_type": "code",
   "execution_count": 15,
   "id": "24dd8e9f-8b16-42e1-8314-29bc517cca2d",
   "metadata": {},
   "outputs": [],
   "source": [
    "%matplotlib qt"
   ]
  },
  {
   "cell_type": "code",
   "execution_count": 16,
   "id": "f52804d3-675c-4773-9ed5-1380c8c27fa4",
   "metadata": {},
   "outputs": [
    {
     "name": "stdout",
     "output_type": "stream",
     "text": [
      "qtagg\n"
     ]
    }
   ],
   "source": [
    "print(mpl.pyplot.get_backend())"
   ]
  },
  {
   "cell_type": "markdown",
   "id": "672e5c46-8726-4ed3-8932-21fd6cf271da",
   "metadata": {},
   "source": [
    "### 3. Create a custom colormap to use with your plot"
   ]
  },
  {
   "cell_type": "markdown",
   "id": "05c98cc2-239b-465f-993c-49bc26542779",
   "metadata": {},
   "source": [
    "#### Import ListedColormap from the matplotlib.colors module"
   ]
  },
  {
   "cell_type": "code",
   "execution_count": 17,
   "id": "1f0f844c-0e18-4876-859f-d150b9f21b6c",
   "metadata": {},
   "outputs": [],
   "source": [
    "from matplotlib.colors import ListedColormap"
   ]
  },
  {
   "cell_type": "code",
   "execution_count": 18,
   "id": "1b6e8387-0eb8-4c09-b33b-38711ee2f28a",
   "metadata": {},
   "outputs": [],
   "source": [
    "import seaborn as sns"
   ]
  },
  {
   "cell_type": "code",
   "execution_count": 19,
   "id": "d54ba17a-210a-4a38-96f8-b62dd812e125",
   "metadata": {},
   "outputs": [
    {
     "data": {
      "text/html": [
       "<svg  width=\"440\" height=\"55\"><rect x=\"0\" y=\"0\" width=\"55\" height=\"55\" style=\"fill:#66c2a5;stroke-width:2;stroke:rgb(255,255,255)\"/><rect x=\"55\" y=\"0\" width=\"55\" height=\"55\" style=\"fill:#fc8d62;stroke-width:2;stroke:rgb(255,255,255)\"/><rect x=\"110\" y=\"0\" width=\"55\" height=\"55\" style=\"fill:#8da0cb;stroke-width:2;stroke:rgb(255,255,255)\"/><rect x=\"165\" y=\"0\" width=\"55\" height=\"55\" style=\"fill:#e78ac3;stroke-width:2;stroke:rgb(255,255,255)\"/><rect x=\"220\" y=\"0\" width=\"55\" height=\"55\" style=\"fill:#a6d854;stroke-width:2;stroke:rgb(255,255,255)\"/><rect x=\"275\" y=\"0\" width=\"55\" height=\"55\" style=\"fill:#ffd92f;stroke-width:2;stroke:rgb(255,255,255)\"/><rect x=\"330\" y=\"0\" width=\"55\" height=\"55\" style=\"fill:#e5c494;stroke-width:2;stroke:rgb(255,255,255)\"/><rect x=\"385\" y=\"0\" width=\"55\" height=\"55\" style=\"fill:#b3b3b3;stroke-width:2;stroke:rgb(255,255,255)\"/></svg>"
      ],
      "text/plain": [
       "[(0.4, 0.7607843137254902, 0.6470588235294118),\n",
       " (0.9882352941176471, 0.5529411764705883, 0.3843137254901961),\n",
       " (0.5529411764705883, 0.6274509803921569, 0.796078431372549),\n",
       " (0.9058823529411765, 0.5411764705882353, 0.7647058823529411),\n",
       " (0.6509803921568628, 0.8470588235294118, 0.32941176470588235),\n",
       " (1.0, 0.8509803921568627, 0.1843137254901961),\n",
       " (0.8980392156862745, 0.7686274509803922, 0.5803921568627451),\n",
       " (0.7019607843137254, 0.7019607843137254, 0.7019607843137254)]"
      ]
     },
     "execution_count": 19,
     "metadata": {},
     "output_type": "execute_result"
    }
   ],
   "source": [
    "sns.color_palette(\"Set2\")"
   ]
  },
  {
   "cell_type": "code",
   "execution_count": 20,
   "id": "ce937fec-383d-4e29-a5a8-f9da4310ce39",
   "metadata": {},
   "outputs": [
    {
     "name": "stdout",
     "output_type": "stream",
     "text": [
      "['#66c2a5', '#fc8d62', '#8da0cb', '#e78ac3', '#a6d854', '#ffd92f', '#e5c494', '#b3b3b3']\n"
     ]
    }
   ],
   "source": [
    "print(sns.color_palette(\"Set2\").as_hex())"
   ]
  },
  {
   "cell_type": "code",
   "execution_count": 21,
   "id": "ff8d534c-f5b0-469e-8542-c1598fd32b34",
   "metadata": {},
   "outputs": [
    {
     "data": {
      "text/html": [
       "<svg  width=\"440\" height=\"55\"><rect x=\"0\" y=\"0\" width=\"55\" height=\"55\" style=\"fill:#482878;stroke-width:2;stroke:rgb(255,255,255)\"/><rect x=\"55\" y=\"0\" width=\"55\" height=\"55\" style=\"fill:#3e4989;stroke-width:2;stroke:rgb(255,255,255)\"/><rect x=\"110\" y=\"0\" width=\"55\" height=\"55\" style=\"fill:#31688e;stroke-width:2;stroke:rgb(255,255,255)\"/><rect x=\"165\" y=\"0\" width=\"55\" height=\"55\" style=\"fill:#26828e;stroke-width:2;stroke:rgb(255,255,255)\"/><rect x=\"220\" y=\"0\" width=\"55\" height=\"55\" style=\"fill:#1f9e89;stroke-width:2;stroke:rgb(255,255,255)\"/><rect x=\"275\" y=\"0\" width=\"55\" height=\"55\" style=\"fill:#35b779;stroke-width:2;stroke:rgb(255,255,255)\"/><rect x=\"330\" y=\"0\" width=\"55\" height=\"55\" style=\"fill:#6ece58;stroke-width:2;stroke:rgb(255,255,255)\"/><rect x=\"385\" y=\"0\" width=\"55\" height=\"55\" style=\"fill:#b5de2b;stroke-width:2;stroke:rgb(255,255,255)\"/></svg>"
      ],
      "text/plain": [
       "[(0.281412, 0.155834, 0.469201),\n",
       " (0.244972, 0.287675, 0.53726),\n",
       " (0.190631, 0.407061, 0.556089),\n",
       " (0.147607, 0.511733, 0.557049),\n",
       " (0.119699, 0.61849, 0.536347),\n",
       " (0.20803, 0.718701, 0.472873),\n",
       " (0.430983, 0.808473, 0.346476),\n",
       " (0.709898, 0.868751, 0.169257)]"
      ]
     },
     "execution_count": 21,
     "metadata": {},
     "output_type": "execute_result"
    }
   ],
   "source": [
    "sns.color_palette(\"viridis\",8)"
   ]
  },
  {
   "cell_type": "code",
   "execution_count": 22,
   "id": "bbeef070-af48-422d-bfc1-1311da31f551",
   "metadata": {},
   "outputs": [
    {
     "name": "stdout",
     "output_type": "stream",
     "text": [
      "['#482878', '#3e4989', '#31688e', '#26828e', '#1f9e89', '#35b779', '#6ece58', '#b5de2b']\n"
     ]
    }
   ],
   "source": [
    "print(sns.color_palette(\"viridis\",8).as_hex())"
   ]
  },
  {
   "cell_type": "markdown",
   "id": "9640e910-d307-4634-83df-8ab8bd0334e9",
   "metadata": {},
   "source": [
    "#### Create a new colormap object by passing a list of colors to ListedColormap()"
   ]
  },
  {
   "cell_type": "code",
   "execution_count": 23,
   "id": "4bde980f-6502-455b-8aeb-1f8b1697d766",
   "metadata": {},
   "outputs": [
    {
     "data": {
      "image/png": "[encoded data removed]",
      "text/html": [
       "<div style=\"vertical-align: middle;\"><strong>from_list</strong> </div><div class=\"cmap\"><img alt=\"from_list colormap\" title=\"from_list\" style=\"border: 1px solid #555;\" src=\"data:image/png;base64,iVBORw0KGgoAAAANSUhEUgAAAgAAAABACAYAAABsv8+/AAAAGHRFWHRUaXRsZQBmcm9tX2xpc3QgY29sb3JtYXBDL89FAAAAHnRFWHREZXNjcmlwdGlvbgBmcm9tX2xpc3QgY29sb3JtYXABtCnOAAAAMHRFWHRBdXRob3IATWF0cGxvdGxpYiB2My45LjIsIGh0dHBzOi8vbWF0cGxvdGxpYi5vcmdhmcVTAAAAMnRFWHRTb2Z0d2FyZQBNYXRwbG90bGliIHYzLjkuMiwgaHR0cHM6Ly9tYXRwbG90bGliLm9yZ08/WnQAAAFjSURBVHic7daxaQIAFADRJJA+NpGIIHaukAl0JPd0AFcQxECw0C38xb03wZX3ftgdH29hf9vFdMKo6+ZzOmHUbTVdMOt/fZ9OGPX9c5lOGPW7PE8njNp/naYTRn1MBwAAr2cAACDIAABAkAEAgCADAABBBgAAggwAAAQZAAAIMgAAEGQAACDIAABAkAEAgCADAABBBgAAggwAAAQZAAAIMgAAEGQAACDIAABAkAEAgCADAABBBgAAggwAAAQZAAAIMgAAEGQAACDIAABAkAEAgCADAABBBgAAggwAAAQZAAAIMgAAEGQAACDIAABAkAEAgCADAABBBgAAggwAAAQZAAAIMgAAEGQAACDIAABAkAEAgCADAABBBgAAggwAAAQZAAAIMgAAEGQAACDIAABAkAEAgCADAABBBgAAggwAAAQZAAAIMgAAEGQAACDIAABAkAEAgCADAABBBgAAggwAAAQ9AVJ2Cz3JLWTHAAAAAElFTkSuQmCC\"></div><div style=\"vertical-align: middle; max-width: 514px; display: flex; justify-content: space-between;\"><div style=\"float: left;\"><div title=\"#482878ff\" style=\"display: inline-block; width: 1em; height: 1em; margin: 0; vertical-align: middle; border: 1px solid #555; background-color: #482878ff;\"></div> under</div><div style=\"margin: 0 auto; display: inline-block;\">bad <div title=\"#00000000\" style=\"display: inline-block; width: 1em; height: 1em; margin: 0; vertical-align: middle; border: 1px solid #555; background-color: #00000000;\"></div></div><div style=\"float: right;\">over <div title=\"#b5de2bff\" style=\"display: inline-block; width: 1em; height: 1em; margin: 0; vertical-align: middle; border: 1px solid #555; background-color: #b5de2bff;\"></div></div></div>"
      ],
      "text/plain": [
       "<matplotlib.colors.ListedColormap at 0x174f6bb00>"
      ]
     },
     "execution_count": 23,
     "metadata": {},
     "output_type": "execute_result"
    }
   ],
   "source": [
    "my_colors = ListedColormap(['#482878', '#3e4989', '#31688e', '#26828e', \n",
    "                            '#1f9e89', '#35b779', '#6ece58', '#b5de2b'])\n",
    "my_colors"
   ]
  },
  {
   "cell_type": "code",
   "execution_count": 24,
   "id": "650140b6-927c-48af-8794-02a8600c08f1",
   "metadata": {},
   "outputs": [
    {
     "data": {
      "image/png": "[encoded data removed]",
      "text/html": [
       "<div style=\"vertical-align: middle;\"><strong>from_list</strong> </div><div class=\"cmap\"><img alt=\"from_list colormap\" title=\"from_list\" style=\"border: 1px solid #555;\" src=\"data:image/png;base64,iVBORw0KGgoAAAANSUhEUgAAAgAAAABACAYAAABsv8+/AAAAGHRFWHRUaXRsZQBmcm9tX2xpc3QgY29sb3JtYXBDL89FAAAAHnRFWHREZXNjcmlwdGlvbgBmcm9tX2xpc3QgY29sb3JtYXABtCnOAAAAMHRFWHRBdXRob3IATWF0cGxvdGxpYiB2My45LjIsIGh0dHBzOi8vbWF0cGxvdGxpYi5vcmdhmcVTAAAAMnRFWHRTb2Z0d2FyZQBNYXRwbG90bGliIHYzLjkuMiwgaHR0cHM6Ly9tYXRwbG90bGliLm9yZ08/WnQAAAFTSURBVHic7dYxAQJBEATBA0/k+MDECyEAbKGDGAmHCzboKgUzWZ/W2nuVtd+vx/c5PWHU8TqmJ4za1/f0hFmfy/SCWbfpAbPu0wOGnacHAAD/JwAAIEgAAECQAACAIAEAAEECAACCBAAABAkAAAgSAAAQJAAAIEgAAECQAACAIAEAAEECAACCBAAABAkAAAgSAAAQJAAAIEgAAECQAACAIAEAAEECAACCBAAABAkAAAgSAAAQJAAAIEgAAECQAACAIAEAAEECAACCBAAABAkAAAgSAAAQJAAAIEgAAECQAACAIAEAAEECAACCBAAABAkAAAgSAAAQJAAAIEgAAECQAACAIAEAAEECAACCBAAABAkAAAgSAAAQJAAAIEgAAECQAACAIAEAAEECAACCBAAABAkAAAgSAAAQJAAAIEgAAECQAACAIAEAAEECAACCBAAABP0AyH0LCjkhEl8AAAAASUVORK5CYII=\"></div><div style=\"vertical-align: middle; max-width: 514px; display: flex; justify-content: space-between;\"><div style=\"float: left;\"><div title=\"#0000ffff\" style=\"display: inline-block; width: 1em; height: 1em; margin: 0; vertical-align: middle; border: 1px solid #555; background-color: #0000ffff;\"></div> under</div><div style=\"margin: 0 auto; display: inline-block;\">bad <div title=\"#00000000\" style=\"display: inline-block; width: 1em; height: 1em; margin: 0; vertical-align: middle; border: 1px solid #555; background-color: #00000000;\"></div></div><div style=\"float: right;\">over <div title=\"#8b0000ff\" style=\"display: inline-block; width: 1em; height: 1em; margin: 0; vertical-align: middle; border: 1px solid #555; background-color: #8b0000ff;\"></div></div></div>"
      ],
      "text/plain": [
       "<matplotlib.colors.ListedColormap at 0x174cbff50>"
      ]
     },
     "execution_count": 24,
     "metadata": {},
     "output_type": "execute_result"
    }
   ],
   "source": [
    "favorite_colors = ListedColormap([\"blue\", \"cyan\", \"lightgreen\", \"green\", \n",
    "                            \"pink\", \"orange\", \"red\", \"darkred\"])\n",
    "favorite_colors"
   ]
  },
  {
   "cell_type": "markdown",
   "id": "6671ab3c-1160-4d8f-9e54-ca6a787c70a1",
   "metadata": {},
   "source": [
    "### 4. Extract the columns Hour, Rented Bike Count, and Temperature from the grouped data\n",
    "- Hours will be plotted on the x-axis.\n",
    "- Rented Bike Count will be plotted on the y-axis.\n",
    "- Temperature will be plotted on the z-axis."
   ]
  },
  {
   "cell_type": "markdown",
   "id": "e4251070-47fe-4e42-9254-ca0bb951b3cf",
   "metadata": {},
   "source": [
    "### 5. Initialize a figure object and add a subplot to it"
   ]
  },
  {
   "cell_type": "code",
   "execution_count": 25,
   "id": "59351970-6e2f-4c5c-b29c-d298e40c08fc",
   "metadata": {},
   "outputs": [],
   "source": [
    "fig, ax = plt.subplots(\n",
    "        figsize = (10,10), \n",
    "        subplot_kw=dict(projection='3d'))\n",
    "plt.show()"
   ]
  },
  {
   "cell_type": "markdown",
   "id": "95a2737e-e39c-403d-a4f4-99e97161feb0",
   "metadata": {},
   "source": [
    "### 6. Plot the trisurface plot.\n",
    "- Use the columns extracted in Step 4\n",
    "- Use the colormap created in Step 3"
   ]
  },
  {
   "cell_type": "code",
   "execution_count": 26,
   "id": "3c461029-3e52-4672-a447-72845b1ce68b",
   "metadata": {},
   "outputs": [],
   "source": [
    "fig, ax = plt.subplots(\n",
    "        figsize = (10,10), \n",
    "        subplot_kw=dict(projection='3d'))\n",
    "ax.plot_trisurf(bikes_by_hour['Hour'], \n",
    "                bikes_by_hour['Temperature(°C)'], \n",
    "                bikes_by_hour['Rented Bike Count'], \n",
    "                cmap = my_colors, \n",
    "                linewidth=0.2)\n",
    "plt.show()"
   ]
  },
  {
   "cell_type": "markdown",
   "id": "2e773375-7738-4974-8bb7-b52e05ff1fec",
   "metadata": {},
   "source": [
    "### 7. Add a color bar to your plot.\n",
    "- This should reflect values of temperature as colors\n",
    "- You can add a label to the color bar"
   ]
  },
  {
   "cell_type": "code",
   "execution_count": 27,
   "id": "67da9434-68a6-43af-b32f-1c675c35c9da",
   "metadata": {},
   "outputs": [],
   "source": [
    "fig, ax = plt.subplots(\n",
    "        figsize = (10,10), \n",
    "        subplot_kw=dict(projection='3d'))\n",
    "tri_plot = ax.plot_trisurf(bikes_by_hour['Hour'], \n",
    "                bikes_by_hour['Temperature(°C)'], \n",
    "                bikes_by_hour['Rented Bike Count'],            \n",
    "                cmap = my_colors, \n",
    "                linewidth=0.2)\n",
    "fig.colorbar(tri_plot, ax = ax, shrink = 0.6)\n",
    "plt.show()"
   ]
  },
  {
   "cell_type": "markdown",
   "id": "3052e973-921e-4bbf-bca4-e84368ba5a24",
   "metadata": {},
   "source": [
    "### 8. Set the axes ticks for your plot"
   ]
  },
  {
   "cell_type": "markdown",
   "id": "f3b0c743-e919-4a30-aa19-8c5f9016b192",
   "metadata": {},
   "source": [
    "### 9. Set the axes labels and overall title for your plot."
   ]
  },
  {
   "cell_type": "markdown",
   "id": "178ef2a0-708d-49b7-8f79-a4b1b256c27c",
   "metadata": {},
   "source": [
    "### 10. Save your plot as a png file with a resolution of 300 dpi"
   ]
  },
  {
   "cell_type": "code",
   "execution_count": 28,
   "id": "724f35e3-eb4a-4e06-827c-7a0c52f9c222",
   "metadata": {},
   "outputs": [],
   "source": [
    "fig, ax = plt.subplots(\n",
    "        figsize = (10,10), \n",
    "        subplot_kw=dict(projection='3d'))\n",
    "tri_plot = ax.plot_trisurf(bikes_by_hour['Hour'], \n",
    "                bikes_by_hour['Temperature(°C)'], \n",
    "                bikes_by_hour['Rented Bike Count'],                 \n",
    "                cmap = my_colors, \n",
    "                linewidth=0.2)\n",
    "ax.set(xticks = range(0,24,2), xticklabels = range(0,24,2), \n",
    "       xlabel = 'Hour',\n",
    "       ylabel = 'Temperature(°C)',\n",
    "       zlabel = 'Avg. Rented Bike Count'\n",
    ")\n",
    "ax.set_title(label = \"Mean of Rented Bikes per Hour and Temperature\", \n",
    "             fontsize = 11)\n",
    "fig.colorbar(tri_plot, ax = ax, shrink = 0.6)\n",
    "fig.savefig(img_loc+'P2_M4.png', dpi = 300)\n",
    "plt.show()"
   ]
  },
  {
   "cell_type": "markdown",
   "id": "c4b196b6-beaf-4645-a1d7-9fa3b03d4fda",
   "metadata": {},
   "source": [
    "## Other Plots"
   ]
  },
  {
   "cell_type": "markdown",
   "id": "cf4f75d7-6763-4329-95d4-03912d3a1618",
   "metadata": {},
   "source": [
    "### Trisurface plot of sin(-x*y)"
   ]
  },
  {
   "cell_type": "code",
   "execution_count": 29,
   "id": "7d2c8b6e-87ac-45ca-b6a7-f6681725b532",
   "metadata": {},
   "outputs": [],
   "source": [
    "n_radii = 8\n",
    "n_angles = 36\n",
    "\n",
    "# Make radii and angles spaces (radius r=0 omitted to eliminate duplication).\n",
    "radii = np.linspace(0.125, 1.0, n_radii)\n",
    "angles = np.linspace(0, 2*np.pi, n_angles, endpoint=False)[..., np.newaxis]\n",
    "\n",
    "# Convert polar (radii, angles) coords to cartesian (x, y) coords.\n",
    "# (0, 0) is manually added at this stage,  so there will be no duplicate\n",
    "# points in the (x, y) plane.\n",
    "x = np.append(0, (radii*np.cos(angles)).flatten())\n",
    "y = np.append(0, (radii*np.sin(angles)).flatten())\n",
    "\n",
    "# Compute z to make the pringle surface.\n",
    "z = np.sin(-x*y)\n",
    "\n",
    "fig, ax = plt.subplots(\n",
    "        figsize = (10,10), \n",
    "        subplot_kw=dict(projection='3d'))\n",
    "\n",
    "tri_plot = ax.plot_trisurf(x, y, z, linewidth=0.2, antialiased=True, cmap = my_colors)\n",
    "ax.set(xlabel = 'x',\n",
    "       ylabel = 'y',\n",
    "       zlabel = 'sin(-x*y)')\n",
    "ax.set_title(label = \"Trisurface Plot of Sin (-x * y)\", \n",
    "             fontsize = 11)\n",
    "\n",
    "fig.colorbar(tri_plot, ax = ax, shrink = 0.6)\n",
    "\n",
    "plt.show()"
   ]
  },
  {
   "cell_type": "markdown",
   "id": "2981e795-0e1b-4df6-b907-3d7947dcf81e",
   "metadata": {},
   "source": [
    "### 3D Scatterplot of sin(-x*y)"
   ]
  },
  {
   "cell_type": "code",
   "execution_count": 30,
   "id": "137f836f-db9d-4a9a-8cf1-4de9cfbf94bb",
   "metadata": {},
   "outputs": [],
   "source": [
    "fig, ax = plt.subplots(\n",
    "        figsize = (10,10), \n",
    "        subplot_kw=dict(projection='3d'))\n",
    "tri_plot = ax.scatter3D(x, \n",
    "                y, \n",
    "                z)\n",
    "ax.set(xlabel = 'x',\n",
    "       ylabel = 'y',\n",
    "       zlabel = 'sin(-x*y)')\n",
    "ax.set_title(label = \"3D Scatterplot of Sin (-x * y)\", \n",
    "             fontsize = 11)\n",
    "plt.show()"
   ]
  },
  {
   "cell_type": "code",
   "execution_count": 31,
   "id": "92fda30f-cbe9-4fde-9e6d-96c9f9a7c8d3",
   "metadata": {},
   "outputs": [],
   "source": [
    "from matplotlib.tri import Triangulation\n",
    "\n",
    "# Sample data points\n",
    "x = np.random.rand(40)\n",
    "y = np.random.rand(40)\n",
    "z = np.sin(2 * np.pi * (x**2 + y**2))\n",
    "\n",
    "# Compute the triangulation\n",
    "triangles = Triangulation(x, y)\n",
    "\n",
    "# Create 3D plot\n",
    "fig, ax = plt.subplots(\n",
    "        figsize = (10,10), \n",
    "        subplot_kw=dict(projection='3d'))\n",
    "\n",
    "# Plot the trisurface\n",
    "ax.plot_trisurf(x, y, z, triangles=triangles.triangles, cmap=\"viridis\")\n",
    "\n",
    "plt.show()"
   ]
  },
  {
   "cell_type": "markdown",
   "id": "96dc4185-e628-453d-bdd4-5eaf9f9ff7fd",
   "metadata": {},
   "source": [
    "### Scatterplot with x: Hour, y: Temperature, z: Bike Count"
   ]
  },
  {
   "cell_type": "code",
   "execution_count": 32,
   "id": "aaa7937b-ebd2-4ef9-984c-05ad5f1f9db0",
   "metadata": {},
   "outputs": [],
   "source": [
    "fig, ax = plt.subplots(\n",
    "        figsize = (10,10), \n",
    "        subplot_kw=dict(projection='3d'))\n",
    "scatter_plot_3D = ax.scatter3D(bikes_by_hour['Hour'], \n",
    "                bikes_by_hour['Temperature(°C)'], \n",
    "                bikes_by_hour['Rented Bike Count'], \n",
    "                c = bikes_by_hour['Rented Bike Count'],\n",
    "                linewidth=0.2,\n",
    "                alpha = 1)\n",
    "ax.set(xticks = range(0,24,2), xticklabels = range(0,24,2), \n",
    "       xlabel = 'Hour',\n",
    "       ylabel = 'Temperature(°C)',\n",
    "       zlabel = 'Avg. Rented Bike Count',\n",
    ")\n",
    "ax.set_title(label = \"Mean of Rented Bikes per Hour and Temperature\", \n",
    "             fontsize = 11)\n",
    "fig.colorbar(scatter_plot_3D, ax = ax, shrink = 0.6)\n",
    "\n",
    "plt.show()"
   ]
  }
 ],
 "metadata": {
  "kernelspec": {
   "display_name": "Python 3 (ipykernel)",
   "language": "python",
   "name": "python3"
  },
  "language_info": {
   "codemirror_mode": {
    "name": "ipython",
    "version": 3
   },
   "file_extension": ".py",
   "mimetype": "text/x-python",
   "name": "python",
   "nbconvert_exporter": "python",
   "pygments_lexer": "ipython3",
   "version": "3.12.7"
  }
 },
 "nbformat": 4,
 "nbformat_minor": 5
}
